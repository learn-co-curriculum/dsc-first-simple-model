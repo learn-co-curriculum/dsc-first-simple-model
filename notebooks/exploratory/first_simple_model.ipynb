{
 "cells": [
  {
   "cell_type": "markdown",
   "metadata": {},
   "source": [
    "# First Simple Model\n",
    "\n",
    "This notebook demonstrates that I am able to open up a minimal version of my data and format it for modeling"
   ]
  },
  {
   "cell_type": "code",
   "execution_count": 1,
   "metadata": {},
   "outputs": [],
   "source": [
    "import pandas as pd\n",
    "from sklearn.linear_model import LinearRegression\n",
    "\n",
    "import os"
   ]
  },
  {
   "cell_type": "code",
   "execution_count": 2,
   "metadata": {},
   "outputs": [],
   "source": [
    "raw_data_path = os.path.join(os.pardir, os.pardir, \"data\", \"raw\", \"online_meetings_v1.csv\")\n",
    "df = pd.read_csv(raw_data_path)"
   ]
  },
  {
   "cell_type": "code",
   "execution_count": 3,
   "metadata": {},
   "outputs": [
    {
     "data": {
      "text/html": [
       "<div>\n",
       "<style scoped>\n",
       "    .dataframe tbody tr th:only-of-type {\n",
       "        vertical-align: middle;\n",
       "    }\n",
       "\n",
       "    .dataframe tbody tr th {\n",
       "        vertical-align: top;\n",
       "    }\n",
       "\n",
       "    .dataframe thead th {\n",
       "        text-align: right;\n",
       "    }\n",
       "</style>\n",
       "<table border=\"1\" class=\"dataframe\">\n",
       "  <thead>\n",
       "    <tr style=\"text-align: right;\">\n",
       "      <th></th>\n",
       "      <th>Platform</th>\n",
       "      <th>Date</th>\n",
       "      <th>Start Time</th>\n",
       "      <th>End Time</th>\n",
       "      <th>Duration</th>\n",
       "      <th>Participant Video on</th>\n",
       "      <th>Participant Mic On</th>\n",
       "      <th>Participant Screen Share</th>\n",
       "      <th>Others Video on</th>\n",
       "      <th>Others Screen Share</th>\n",
       "      <th>Window Minimized</th>\n",
       "      <th>Group</th>\n",
       "      <th>Download</th>\n",
       "      <th>Upload</th>\n",
       "      <th>Total</th>\n",
       "    </tr>\n",
       "  </thead>\n",
       "  <tbody>\n",
       "    <tr>\n",
       "      <th>0</th>\n",
       "      <td>Zoom</td>\n",
       "      <td>7/8/2020</td>\n",
       "      <td>9:00:00 AM</td>\n",
       "      <td>10:00:00 AM</td>\n",
       "      <td>1:00:00</td>\n",
       "      <td>0</td>\n",
       "      <td>0</td>\n",
       "      <td>0</td>\n",
       "      <td>0</td>\n",
       "      <td>1</td>\n",
       "      <td>0</td>\n",
       "      <td>1</td>\n",
       "      <td>41.1</td>\n",
       "      <td>9.3</td>\n",
       "      <td>50.5</td>\n",
       "    </tr>\n",
       "    <tr>\n",
       "      <th>1</th>\n",
       "      <td>Zoom</td>\n",
       "      <td>7/8/2020</td>\n",
       "      <td>10:00:00 AM</td>\n",
       "      <td>11:50:00 AM</td>\n",
       "      <td>1:50:00</td>\n",
       "      <td>0</td>\n",
       "      <td>0</td>\n",
       "      <td>0</td>\n",
       "      <td>1</td>\n",
       "      <td>1</td>\n",
       "      <td>0</td>\n",
       "      <td>1</td>\n",
       "      <td>283.6</td>\n",
       "      <td>19.4</td>\n",
       "      <td>303.1</td>\n",
       "    </tr>\n",
       "    <tr>\n",
       "      <th>2</th>\n",
       "      <td>Google Meet</td>\n",
       "      <td>7/8/2020</td>\n",
       "      <td>12:00:00 PM</td>\n",
       "      <td>1:10:00 PM</td>\n",
       "      <td>1:10:00</td>\n",
       "      <td>1</td>\n",
       "      <td>0</td>\n",
       "      <td>0</td>\n",
       "      <td>1</td>\n",
       "      <td>1</td>\n",
       "      <td>0</td>\n",
       "      <td>1</td>\n",
       "      <td>145.7</td>\n",
       "      <td>8.8</td>\n",
       "      <td>154.5</td>\n",
       "    </tr>\n",
       "    <tr>\n",
       "      <th>3</th>\n",
       "      <td>Zoom</td>\n",
       "      <td>7/10/2020</td>\n",
       "      <td>10:00:00 AM</td>\n",
       "      <td>10:30:00 AM</td>\n",
       "      <td>0:30:00</td>\n",
       "      <td>0</td>\n",
       "      <td>0</td>\n",
       "      <td>0</td>\n",
       "      <td>1</td>\n",
       "      <td>1</td>\n",
       "      <td>0</td>\n",
       "      <td>1</td>\n",
       "      <td>99.1</td>\n",
       "      <td>3.1</td>\n",
       "      <td>102.3</td>\n",
       "    </tr>\n",
       "    <tr>\n",
       "      <th>4</th>\n",
       "      <td>Zoom</td>\n",
       "      <td>7/10/2020</td>\n",
       "      <td>5:00:00 PM</td>\n",
       "      <td>5:33:00 PM</td>\n",
       "      <td>0:33:00</td>\n",
       "      <td>0</td>\n",
       "      <td>1</td>\n",
       "      <td>0</td>\n",
       "      <td>0</td>\n",
       "      <td>0</td>\n",
       "      <td>0</td>\n",
       "      <td>1</td>\n",
       "      <td>20.4</td>\n",
       "      <td>16.1</td>\n",
       "      <td>36.5</td>\n",
       "    </tr>\n",
       "  </tbody>\n",
       "</table>\n",
       "</div>"
      ],
      "text/plain": [
       "      Platform       Date   Start Time     End Time Duration  \\\n",
       "0        Zoom    7/8/2020   9:00:00 AM  10:00:00 AM  1:00:00   \n",
       "1         Zoom   7/8/2020  10:00:00 AM  11:50:00 AM  1:50:00   \n",
       "2  Google Meet   7/8/2020  12:00:00 PM   1:10:00 PM  1:10:00   \n",
       "3         Zoom  7/10/2020  10:00:00 AM  10:30:00 AM  0:30:00   \n",
       "4         Zoom  7/10/2020   5:00:00 PM   5:33:00 PM  0:33:00   \n",
       "\n",
       "   Participant Video on  Participant Mic On  Participant Screen Share  \\\n",
       "0                     0                   0                         0   \n",
       "1                     0                   0                         0   \n",
       "2                     1                   0                         0   \n",
       "3                     0                   0                         0   \n",
       "4                     0                   1                         0   \n",
       "\n",
       "   Others Video on  Others Screen Share  Window Minimized  Group  Download  \\\n",
       "0                0                    1                 0      1      41.1   \n",
       "1                1                    1                 0      1     283.6   \n",
       "2                1                    1                 0      1     145.7   \n",
       "3                1                    1                 0      1      99.1   \n",
       "4                0                    0                 0      1      20.4   \n",
       "\n",
       "   Upload  Total  \n",
       "0     9.3   50.5  \n",
       "1    19.4  303.1  \n",
       "2     8.8  154.5  \n",
       "3     3.1  102.3  \n",
       "4    16.1   36.5  "
      ]
     },
     "execution_count": 3,
     "metadata": {},
     "output_type": "execute_result"
    }
   ],
   "source": [
    "df.head()"
   ]
  },
  {
   "cell_type": "markdown",
   "metadata": {},
   "source": [
    "This model's goal is to predict the total bandwidth usage of a given video call\n",
    "\n",
    "The target is encoded in the column `Total` (which is composed of `Download` and `Upload` so I can't use those features)"
   ]
  },
  {
   "cell_type": "code",
   "execution_count": 4,
   "metadata": {},
   "outputs": [],
   "source": [
    "y = df['Total']\n",
    "X = df.drop('Total', axis=1)"
   ]
  },
  {
   "cell_type": "code",
   "execution_count": 5,
   "metadata": {},
   "outputs": [
    {
     "data": {
      "text/html": [
       "<div>\n",
       "<style scoped>\n",
       "    .dataframe tbody tr th:only-of-type {\n",
       "        vertical-align: middle;\n",
       "    }\n",
       "\n",
       "    .dataframe tbody tr th {\n",
       "        vertical-align: top;\n",
       "    }\n",
       "\n",
       "    .dataframe thead th {\n",
       "        text-align: right;\n",
       "    }\n",
       "</style>\n",
       "<table border=\"1\" class=\"dataframe\">\n",
       "  <thead>\n",
       "    <tr style=\"text-align: right;\">\n",
       "      <th></th>\n",
       "      <th>Participant Video on</th>\n",
       "      <th>Participant Mic On</th>\n",
       "      <th>Participant Screen Share</th>\n",
       "      <th>Others Video on</th>\n",
       "      <th>Others Screen Share</th>\n",
       "      <th>Window Minimized</th>\n",
       "      <th>Group</th>\n",
       "      <th>Download</th>\n",
       "      <th>Upload</th>\n",
       "    </tr>\n",
       "  </thead>\n",
       "  <tbody>\n",
       "    <tr>\n",
       "      <th>count</th>\n",
       "      <td>115.000000</td>\n",
       "      <td>115.000000</td>\n",
       "      <td>115.000000</td>\n",
       "      <td>115.000000</td>\n",
       "      <td>115.000000</td>\n",
       "      <td>115.000000</td>\n",
       "      <td>115.000000</td>\n",
       "      <td>115.000000</td>\n",
       "      <td>115.000000</td>\n",
       "    </tr>\n",
       "    <tr>\n",
       "      <th>mean</th>\n",
       "      <td>0.121739</td>\n",
       "      <td>0.591304</td>\n",
       "      <td>0.208696</td>\n",
       "      <td>0.373913</td>\n",
       "      <td>0.600000</td>\n",
       "      <td>0.104348</td>\n",
       "      <td>0.739130</td>\n",
       "      <td>91.168417</td>\n",
       "      <td>35.873836</td>\n",
       "    </tr>\n",
       "    <tr>\n",
       "      <th>std</th>\n",
       "      <td>0.328415</td>\n",
       "      <td>0.493744</td>\n",
       "      <td>0.408155</td>\n",
       "      <td>0.485958</td>\n",
       "      <td>0.492042</td>\n",
       "      <td>0.307049</td>\n",
       "      <td>0.441031</td>\n",
       "      <td>134.820077</td>\n",
       "      <td>66.960607</td>\n",
       "    </tr>\n",
       "    <tr>\n",
       "      <th>min</th>\n",
       "      <td>0.000000</td>\n",
       "      <td>0.000000</td>\n",
       "      <td>0.000000</td>\n",
       "      <td>0.000000</td>\n",
       "      <td>0.000000</td>\n",
       "      <td>0.000000</td>\n",
       "      <td>0.000000</td>\n",
       "      <td>0.768000</td>\n",
       "      <td>0.006100</td>\n",
       "    </tr>\n",
       "    <tr>\n",
       "      <th>25%</th>\n",
       "      <td>0.000000</td>\n",
       "      <td>0.000000</td>\n",
       "      <td>0.000000</td>\n",
       "      <td>0.000000</td>\n",
       "      <td>0.000000</td>\n",
       "      <td>0.000000</td>\n",
       "      <td>0.000000</td>\n",
       "      <td>21.450000</td>\n",
       "      <td>3.450000</td>\n",
       "    </tr>\n",
       "    <tr>\n",
       "      <th>50%</th>\n",
       "      <td>0.000000</td>\n",
       "      <td>1.000000</td>\n",
       "      <td>0.000000</td>\n",
       "      <td>0.000000</td>\n",
       "      <td>1.000000</td>\n",
       "      <td>0.000000</td>\n",
       "      <td>1.000000</td>\n",
       "      <td>54.200000</td>\n",
       "      <td>7.900000</td>\n",
       "    </tr>\n",
       "    <tr>\n",
       "      <th>75%</th>\n",
       "      <td>0.000000</td>\n",
       "      <td>1.000000</td>\n",
       "      <td>0.000000</td>\n",
       "      <td>1.000000</td>\n",
       "      <td>1.000000</td>\n",
       "      <td>0.000000</td>\n",
       "      <td>1.000000</td>\n",
       "      <td>120.700000</td>\n",
       "      <td>30.050000</td>\n",
       "    </tr>\n",
       "    <tr>\n",
       "      <th>max</th>\n",
       "      <td>1.000000</td>\n",
       "      <td>1.000000</td>\n",
       "      <td>1.000000</td>\n",
       "      <td>1.000000</td>\n",
       "      <td>1.000000</td>\n",
       "      <td>1.000000</td>\n",
       "      <td>1.000000</td>\n",
       "      <td>1250.000000</td>\n",
       "      <td>286.100000</td>\n",
       "    </tr>\n",
       "  </tbody>\n",
       "</table>\n",
       "</div>"
      ],
      "text/plain": [
       "       Participant Video on  Participant Mic On  Participant Screen Share  \\\n",
       "count            115.000000          115.000000                115.000000   \n",
       "mean               0.121739            0.591304                  0.208696   \n",
       "std                0.328415            0.493744                  0.408155   \n",
       "min                0.000000            0.000000                  0.000000   \n",
       "25%                0.000000            0.000000                  0.000000   \n",
       "50%                0.000000            1.000000                  0.000000   \n",
       "75%                0.000000            1.000000                  0.000000   \n",
       "max                1.000000            1.000000                  1.000000   \n",
       "\n",
       "       Others Video on  Others Screen Share  Window Minimized       Group  \\\n",
       "count       115.000000           115.000000        115.000000  115.000000   \n",
       "mean          0.373913             0.600000          0.104348    0.739130   \n",
       "std           0.485958             0.492042          0.307049    0.441031   \n",
       "min           0.000000             0.000000          0.000000    0.000000   \n",
       "25%           0.000000             0.000000          0.000000    0.000000   \n",
       "50%           0.000000             1.000000          0.000000    1.000000   \n",
       "75%           1.000000             1.000000          0.000000    1.000000   \n",
       "max           1.000000             1.000000          1.000000    1.000000   \n",
       "\n",
       "          Download      Upload  \n",
       "count   115.000000  115.000000  \n",
       "mean     91.168417   35.873836  \n",
       "std     134.820077   66.960607  \n",
       "min       0.768000    0.006100  \n",
       "25%      21.450000    3.450000  \n",
       "50%      54.200000    7.900000  \n",
       "75%     120.700000   30.050000  \n",
       "max    1250.000000  286.100000  "
      ]
     },
     "execution_count": 5,
     "metadata": {},
     "output_type": "execute_result"
    }
   ],
   "source": [
    "X.describe()"
   ]
  },
  {
   "cell_type": "code",
   "execution_count": 6,
   "metadata": {},
   "outputs": [
    {
     "data": {
      "text/plain": [
       "Index(['Platform', 'Date', 'Start Time', 'End Time', 'Duration',\n",
       "       'Participant Video on', 'Participant Mic On',\n",
       "       'Participant Screen Share', 'Others Video on', 'Others Screen Share',\n",
       "       'Window Minimized', 'Group', 'Download', 'Upload'],\n",
       "      dtype='object')"
      ]
     },
     "execution_count": 6,
     "metadata": {},
     "output_type": "execute_result"
    }
   ],
   "source": [
    "X.columns"
   ]
  },
  {
   "cell_type": "code",
   "execution_count": 7,
   "metadata": {},
   "outputs": [],
   "source": [
    "fsm_columns = [\n",
    "    'Participant Video on',\n",
    "    'Participant Mic On',\n",
    "    'Participant Screen Share',\n",
    "    'Others Video on',\n",
    "    'Others Screen Share',\n",
    "    'Window Minimized',\n",
    "    'Group'\n",
    "]\n",
    "\n",
    "X_fsm = X[fsm_columns]"
   ]
  },
  {
   "cell_type": "code",
   "execution_count": 8,
   "metadata": {},
   "outputs": [],
   "source": [
    "fsm = LinearRegression()"
   ]
  },
  {
   "cell_type": "code",
   "execution_count": 9,
   "metadata": {},
   "outputs": [
    {
     "data": {
      "text/plain": [
       "LinearRegression(copy_X=True, fit_intercept=True, n_jobs=None, normalize=False)"
      ]
     },
     "execution_count": 9,
     "metadata": {},
     "output_type": "execute_result"
    }
   ],
   "source": [
    "fsm.fit(X_fsm, y)"
   ]
  },
  {
   "cell_type": "code",
   "execution_count": 10,
   "metadata": {},
   "outputs": [
    {
     "data": {
      "text/plain": [
       "0.30192314840216994"
      ]
     },
     "execution_count": 10,
     "metadata": {},
     "output_type": "execute_result"
    }
   ],
   "source": [
    "fsm.score(X_fsm, y)"
   ]
  },
  {
   "cell_type": "markdown",
   "metadata": {},
   "source": [
    "More work is required to develop a true baseline model, but this demonstrates that my data is feasible for modeling.  "
   ]
  },
  {
   "cell_type": "code",
   "execution_count": null,
   "metadata": {},
   "outputs": [],
   "source": []
  }
 ],
 "metadata": {
  "kernelspec": {
   "display_name": "Python 3 (prework-labs)",
   "language": "python",
   "name": "prework-labs"
  },
  "language_info": {
   "codemirror_mode": {
    "name": "ipython",
    "version": 3
   },
   "file_extension": ".py",
   "mimetype": "text/x-python",
   "name": "python",
   "nbconvert_exporter": "python",
   "pygments_lexer": "ipython3",
   "version": "3.7.3"
  }
 },
 "nbformat": 4,
 "nbformat_minor": 4
}
